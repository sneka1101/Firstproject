{
  "nbformat": 4,
  "nbformat_minor": 0,
  "metadata": {
    "colab": {
      "provenance": []
    },
    "kernelspec": {
      "name": "python3",
      "display_name": "Python 3"
    },
    "language_info": {
      "name": "python"
    }
  },
  "cells": [
    {
      "cell_type": "code",
      "execution_count": 7,
      "metadata": {
        "colab": {
          "base_uri": "https://localhost:8080/"
        },
        "id": "w8rJ1VDUu_J6",
        "outputId": "a78ce929-f944-46bb-9f4b-a88eecfe609e"
      },
      "outputs": [
        {
          "output_type": "stream",
          "name": "stdout",
          "text": [
            " ENTER YOUR NAME sneka\n",
            " enter your weight 170\n",
            " enter your height 69\n",
            "26.065952530980887\n",
            "snekayou are over weight\n"
          ]
        }
      ],
      "source": [
        "name = input(' ENTER YOUR NAME ')\n",
        "\n",
        "weight = int(input(' enter your weight '))\n",
        "\n",
        "height = int(input(\" enter your height \"))\n",
        "\n",
        "BMI=(weight*730)/(height *height)\n",
        "\n",
        "print(BMI)\n",
        "\n",
        "if BMI>0:\n",
        "  if(BMI < 18.5):\n",
        "    print(name + \" you are underweight\")\n",
        "  elif(BMI<=24.9):\n",
        "    print(name + \" you are normal weight\")\n",
        "  elif(BMI< 29.9):\n",
        "    print(name + \" you are over weight\")\n",
        "  elif(BMI< 34.9):\n",
        "    print(name + \" you are obese\")\n",
        "  elif(BMI< 39.9):\n",
        "    print(name + \" you are over obese\")\n",
        "  else:\n",
        "    print(name + \" you are morbidly obese\")\n",
        "else:\n",
        "  print(\"enter valid input\")\n",
        "\n",
        ""
      ]
    }
  ]
}